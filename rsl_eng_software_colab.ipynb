
# Apoio à Revisão Sistemática na Engenharia de Software

Este notebook realiza a análise de uma base de dados fictícia representando artigos de uma Revisão Sistemática da Literatura (RSL) em Engenharia de Software. O objetivo é demonstrar como ferramentas como Pandas, Matplotlib e Seaborn podem ser utilizadas para organizar, visualizar e obter insights a partir de revisões sistemáticas.

## 📁 Configurações Iniciais

```python
ARQUIVO_DADOS = "/content/base_artigos_rsl.csv"
SEPARADOR = ","
```

## 📦 Importação de Bibliotecas

```python
import pandas as pd
import matplotlib.pyplot as plt
import seaborn as sns
sns.set(style="whitegrid")
```

## 🔁 Leitura da Base de Dados

```python
def carregar_dados(caminho, separador=','):
    try:
        df = pd.read_csv(caminho, sep=separador)
        print(f"✅ {len(df)} registros carregados com sucesso.")
        return df
    except Exception as e:
        print(f"❌ Erro ao carregar arquivo: {e}")
        return pd.DataFrame()

df = carregar_dados(ARQUIVO_DADOS, SEPARADOR)
df.head()
```

## 🧹 Tratamento de Dados

```python
def tratar_dados(df):
    df = df.dropna(subset=['Ano', 'Método', 'Título'])
    df['Ano'] = df['Ano'].astype(int)
    df['Título'] = df['Título'].str.strip()
    df['Fonte'] = df['Fonte'].fillna("Desconhecida")
    df['Método'] = df['Método'].str.strip().str.lower()
    return df

df = tratar_dados(df)
```

## 📊 Publicações por Ano

```python
def plotar_publicacoes_por_ano(df):
    plt.figure(figsize=(10, 6))
    sns.countplot(data=df, x="Ano", palette="Blues_r")
    plt.title("Número de Publicações por Ano")
    plt.xlabel("Ano")
    plt.ylabel("Número de artigos")
    plt.xticks(rotation=45)
    plt.tight_layout()
    plt.show()

plotar_publicacoes_por_ano(df)
```

## 🧪 Frequência de Métodos Científicos

```python
def plotar_metodos(df):
    plt.figure(figsize=(10, 6))
    df['Método'].value_counts().plot(kind='bar', color='skyblue')
    plt.title("Frequência dos Métodos Utilizados")
    plt.xlabel("Método")
    plt.ylabel("Número de artigos")
    plt.xticks(rotation=45)
    plt.tight_layout()
    plt.show()

plotar_metodos(df)
```

## 📰 Principais Fontes

```python
def plotar_fontes(df, top_n=10):
    plt.figure(figsize=(10, 6))
    df['Fonte'].value_counts().head(top_n).plot(kind='barh', color='lightgreen')
    plt.title(f"Top {top_n} Fontes com Mais Publicações")
    plt.xlabel("Número de artigos")
    plt.ylabel("Fonte")
    plt.gca().invert_yaxis()
    plt.tight_layout()
    plt.show()

plotar_fontes(df)
```
